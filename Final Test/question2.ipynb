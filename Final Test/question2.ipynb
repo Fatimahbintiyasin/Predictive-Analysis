{
 "cells": [
  {
   "cell_type": "code",
   "execution_count": 1,
   "id": "c5df703f",
   "metadata": {},
   "outputs": [
    {
     "name": "stdout",
     "output_type": "stream",
     "text": [
      "Column Names:\n",
      "Index(['model', 'millage', 'value', 'damage', 'color'], dtype='object')\n",
      "\n",
      "Column Types:\n",
      "model      object\n",
      "millage     int64\n",
      "value       int64\n",
      "damage     object\n",
      "color      object\n",
      "dtype: object\n",
      "\n",
      "Numeric Column Statistics:\n",
      "          millage       value\n",
      "count  107.000000  107.000000\n",
      "mean    37.813084   25.504673\n",
      "std     16.545039    6.603849\n",
      "min     10.000000   14.000000\n",
      "25%     25.000000   21.000000\n",
      "50%     38.000000   25.000000\n",
      "75%     49.000000   31.000000\n",
      "max     75.000000   46.000000\n",
      "\n",
      "First Three Records:\n",
      "    model  millage  value         damage  color\n",
      "0    Ford       64     16      no damage  white\n",
      "1    Ford       22     23     low damage  black\n",
      "2  Toyota       28     25  medium damage  black\n",
      "\n",
      "Summary of Missing Values:\n",
      "model      0\n",
      "millage    0\n",
      "value      0\n",
      "damage     0\n",
      "color      0\n",
      "dtype: int64\n"
     ]
    }
   ],
   "source": [
    "# Explore the data as follows: \n",
    "\n",
    "import pandas as pd\n",
    "\n",
    "# Downloading the file and loading it into a Pandas dataframe\n",
    "url = 'https://e.centennialcollege.ca/content/enforced/1010634-COMP309401_2023F/Misissagua_dealer.txt?_&d2lSessionVal=AJOR2OlmrARDauUz5Y2Dwd7cB'\n",
    "df2_fatimah = pd.read_csv(url, delimiter='\\t')\n",
    "\n",
    "# Explore the data\n",
    "# 1. Print the names of columns\n",
    "print(\"Column Names:\")\n",
    "print(df2_fatimah.columns)\n",
    "\n",
    "# 2. Print the types of columns\n",
    "print(\"\\nColumn Types:\")\n",
    "print(df2_fatimah.dtypes)\n",
    "\n",
    "# 3. Print statistics count, min, mean, std, 1st quartile, median, 3rd quartile, max of numeric columns\n",
    "print(\"\\nNumeric Column Statistics:\")\n",
    "print(df2_fatimah.describe())\n",
    "\n",
    "# 4. Print the first three records\n",
    "print(\"\\nFirst Three Records:\")\n",
    "print(df2_fatimah.head(3))\n",
    "\n",
    "# 5. Print a summary of all missing values in all columns\n",
    "print(\"\\nSummary of Missing Values:\")\n",
    "print(df2_fatimah.isnull().sum())\n",
    "\n"
   ]
  },
  {
   "cell_type": "code",
   "execution_count": 2,
   "id": "3c40b4bd",
   "metadata": {},
   "outputs": [
    {
     "name": "stdout",
     "output_type": "stream",
     "text": [
      "\n",
      "No Missing Values in the DataFrame.\n",
      "\n",
      "Statistics for Standardized DataFrame:\n",
      "            millage         value  model_Toyota  damage_medium damage  \\\n",
      "count  1.070000e+02  1.070000e+02  1.070000e+02          1.070000e+02   \n",
      "mean   5.239838e-17  3.527811e-17  1.058343e-16          8.300733e-17   \n",
      "std    1.004706e+00  1.004706e+00  1.004706e+00          1.004706e+00   \n",
      "min   -1.688964e+00 -1.750314e+00 -1.067708e+00         -5.087470e-01   \n",
      "25%   -7.780810e-01 -6.853384e-01 -1.067708e+00         -5.087470e-01   \n",
      "50%    1.135056e-02 -7.678065e-02  9.365858e-01         -5.087470e-01   \n",
      "75%    6.793312e-01  8.360560e-01  9.365858e-01         -5.087470e-01   \n",
      "max    2.258194e+00  3.118147e+00  9.365858e-01          1.965613e+00   \n",
      "\n",
      "       damage_no damage   color_white  \n",
      "count      1.070000e+02  1.070000e+02  \n",
      "mean       1.763906e-16  1.535636e-16  \n",
      "std        1.004706e+00  1.004706e+00  \n",
      "min       -1.129865e+00 -1.047874e+00  \n",
      "25%       -1.129865e+00 -1.047874e+00  \n",
      "50%        8.850612e-01  9.543135e-01  \n",
      "75%        8.850612e-01  9.543135e-01  \n",
      "max        8.850612e-01  9.543135e-01  \n"
     ]
    }
   ],
   "source": [
    "# Preprocess the data:    \n",
    "\n",
    "import pandas as pd\n",
    "from sklearn.preprocessing import StandardScaler\n",
    "\n",
    "# Step 1: Convert categorical columns into numeric values using get_dummies and drop original columns\n",
    "df2_fatimah_numeric = pd.get_dummies(df2_fatimah, drop_first=True)\n",
    "\n",
    "# Step 2: Check for missing values\n",
    "if df2_fatimah_numeric.isnull().sum().sum() == 0:\n",
    "    print(\"\\nNo Missing Values in the DataFrame.\")\n",
    "\n",
    "# Step 3: Save the new numeric dataset\n",
    "df2_fatimah_numeric.to_csv('df2_fatimah_numeric.csv', index=False)\n",
    "\n",
    "# Step 4: Standardize the numeric dataframe\n",
    "scaler = StandardScaler()\n",
    "df2_fatimah_standardized = pd.DataFrame(scaler.fit_transform(df2_fatimah_numeric), columns=df2_fatimah_numeric.columns)\n",
    "\n",
    "# Step 5: Print statistics for the standardized dataframe\n",
    "statistics_df = df2_fatimah_standardized.describe()\n",
    "print(\"\\nStatistics for Standardized DataFrame:\")\n",
    "print(statistics_df)\n",
    "\n",
    "# Step 6: Save the standardized dataframe\n",
    "df2_fatimah_standardized.to_csv('df2_fatimah_standardized.csv', index=False)"
   ]
  },
  {
   "cell_type": "code",
   "execution_count": 3,
   "id": "9788274f",
   "metadata": {},
   "outputs": [
    {
     "data": {
      "image/png": "[encoded data removed]",
      "text/plain": [
       "<Figure size 576x432 with 1 Axes>"
      ]
     },
     "metadata": {
      "needs_background": "light"
     },
     "output_type": "display_data"
    },
    {
     "name": "stdout",
     "output_type": "stream",
     "text": [
      "\n",
      "Number of Observations in Each Cluster:\n",
      "3    31\n",
      "0    28\n",
      "1    22\n",
      "2    17\n",
      "4     9\n",
      "Name: cluster_fatimah, dtype: int64\n"
     ]
    }
   ],
   "source": [
    "# Build a model    \n",
    "\n",
    "import pandas as pd\n",
    "from sklearn.cluster import KMeans\n",
    "import matplotlib.pyplot as plt\n",
    "\n",
    "# Load the standardized dataframe\n",
    "df2_fatimah_standardized = pd.read_csv('df2_fatimah_standardized.csv')\n",
    "\n",
    "# Perform K-means clustering with 5 clusters\n",
    "kmeans = KMeans(n_clusters=5, random_state=42)\n",
    "df2_fatimah_standardized['cluster_fatimah'] = kmeans.fit_predict(df2_fatimah_standardized)\n",
    "\n",
    "# Plot a histogram of the clusters\n",
    "plt.figure(figsize=(8, 6))\n",
    "plt.hist(df2_fatimah_standardized['cluster_fatimah'], bins=range(6), align='left', edgecolor='black', alpha=0.7)\n",
    "plt.title(\"fatimah_clusters\")\n",
    "plt.xlabel(\"Cluster Number\")\n",
    "plt.ylabel(\"Number of Observations\")\n",
    "plt.xticks(range(5))\n",
    "plt.grid(axis='y', linestyle='--', alpha=0.7)\n",
    "plt.show()\n",
    "\n",
    "# Print the number of observations in each cluster\n",
    "cluster_counts = df2_fatimah_standardized['cluster_fatimah'].value_counts()\n",
    "print(\"\\nNumber of Observations in Each Cluster:\")\n",
    "print(cluster_counts)"
   ]
  },
  {
   "cell_type": "code",
   "execution_count": null,
   "id": "5fd35afb",
   "metadata": {},
   "outputs": [],
   "source": []
  }
 ],
 "metadata": {
  "kernelspec": {
   "display_name": "Python 3 (ipykernel)",
   "language": "python",
   "name": "python3"
  },
  "language_info": {
   "codemirror_mode": {
    "name": "ipython",
    "version": 3
   },
   "file_extension": ".py",
   "mimetype": "text/x-python",
   "name": "python",
   "nbconvert_exporter": "python",
   "pygments_lexer": "ipython3",
   "version": "3.9.12"
  }
 },
 "nbformat": 4,
 "nbformat_minor": 5
}
