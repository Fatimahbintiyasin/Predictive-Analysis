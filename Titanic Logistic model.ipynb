{
 "cells": [
  {
   "cell_type": "code",
   "execution_count": 2,
   "id": "c482b7cc",
   "metadata": {},
   "outputs": [
    {
     "name": "stdout",
     "output_type": "stream",
     "text": [
      "['pclass' 'survived' 'name' 'sex' 'age' 'sibsp' 'parch' 'ticket' 'fare'\n",
      " 'cabin' 'embarked' 'boat' 'body' 'home.dest']\n",
      "   pclass  survived                                             name     sex  \\\n",
      "0       1         1                    Allen, Miss. Elisabeth Walton  female   \n",
      "1       1         1                   Allison, Master. Hudson Trevor    male   \n",
      "2       1         0                     Allison, Miss. Helen Loraine  female   \n",
      "3       1         0             Allison, Mr. Hudson Joshua Creighton    male   \n",
      "4       1         0  Allison, Mrs. Hudson J C (Bessie Waldo Daniels)  female   \n",
      "\n",
      "       age  sibsp  parch  ticket      fare    cabin embarked boat   body  \\\n",
      "0  29.0000      0      0   24160  211.3375       B5        S    2    NaN   \n",
      "1   0.9167      1      2  113781  151.5500  C22 C26        S   11    NaN   \n",
      "2   2.0000      1      2  113781  151.5500  C22 C26        S  NaN    NaN   \n",
      "3  30.0000      1      2  113781  151.5500  C22 C26        S  NaN  135.0   \n",
      "4  25.0000      1      2  113781  151.5500  C22 C26        S  NaN    NaN   \n",
      "\n",
      "                         home.dest  \n",
      "0                     St Louis, MO  \n",
      "1  Montreal, PQ / Chesterville, ON  \n",
      "2  Montreal, PQ / Chesterville, ON  \n",
      "3  Montreal, PQ / Chesterville, ON  \n",
      "4  Montreal, PQ / Chesterville, ON  \n",
      "<class 'pandas.core.frame.DataFrame'>\n",
      "RangeIndex: 1309 entries, 0 to 1308\n",
      "Data columns (total 14 columns):\n",
      " #   Column     Non-Null Count  Dtype  \n",
      "---  ------     --------------  -----  \n",
      " 0   pclass     1309 non-null   int64  \n",
      " 1   survived   1309 non-null   int64  \n",
      " 2   name       1309 non-null   object \n",
      " 3   sex        1309 non-null   object \n",
      " 4   age        1046 non-null   float64\n",
      " 5   sibsp      1309 non-null   int64  \n",
      " 6   parch      1309 non-null   int64  \n",
      " 7   ticket     1309 non-null   object \n",
      " 8   fare       1308 non-null   float64\n",
      " 9   cabin      295 non-null    object \n",
      " 10  embarked   1307 non-null   object \n",
      " 11  boat       486 non-null    object \n",
      " 12  body       121 non-null    float64\n",
      " 13  home.dest  745 non-null    object \n",
      "dtypes: float64(3), int64(4), object(7)\n",
      "memory usage: 143.3+ KB\n",
      "None\n"
     ]
    }
   ],
   "source": [
    "import pandas as pd\n",
    "import numpy as np\n",
    "\n",
    "pd.set_option('display.max_columns',30) # set the maximum width\n",
    "\n",
    "df = pd.read_csv('C:/Users/yasin/Desktop/COMP-309/Week-11/titanic3.csv')\n",
    "\n",
    "# Explore the data check the column values\n",
    "print(df.columns.values)\n",
    "print (df.head())\n",
    "print (df.info())"
   ]
  },
  {
   "cell_type": "code",
   "execution_count": 8,
   "id": "fbc7a13c",
   "metadata": {},
   "outputs": [
    {
     "name": "stdout",
     "output_type": "stream",
     "text": [
      "['name', 'sex', 'ticket', 'cabin', 'embarked', 'boat', 'home.dest']\n",
      "['pclass' 'survived' 'name' 'sex' 'age' 'sibsp' 'parch' 'ticket' 'fare'\n",
      " 'cabin' 'embarked' 'boat' 'body' 'home.dest']\n",
      "   pclass  survived                                             name     sex  \\\n",
      "0       1         1                    Allen, Miss. Elisabeth Walton  female   \n",
      "1       1         1                   Allison, Master. Hudson Trevor    male   \n",
      "2       1         0                     Allison, Miss. Helen Loraine  female   \n",
      "3       1         0             Allison, Mr. Hudson Joshua Creighton    male   \n",
      "4       1         0  Allison, Mrs. Hudson J C (Bessie Waldo Daniels)  female   \n",
      "\n",
      "       age  sibsp  parch  ticket      fare    cabin embarked boat   body  \\\n",
      "0  29.0000      0      0   24160  211.3375       B5        S    2    0.0   \n",
      "1   0.9167      1      2  113781  151.5500  C22 C26        S   11    0.0   \n",
      "2   2.0000      1      2  113781  151.5500  C22 C26        S  NaN    0.0   \n",
      "3  30.0000      1      2  113781  151.5500  C22 C26        S  NaN  135.0   \n",
      "4  25.0000      1      2  113781  151.5500  C22 C26        S  NaN    0.0   \n",
      "\n",
      "                         home.dest  \n",
      "0                     St Louis, MO  \n",
      "1  Montreal, PQ / Chesterville, ON  \n",
      "2  Montreal, PQ / Chesterville, ON  \n",
      "3  Montreal, PQ / Chesterville, ON  \n",
      "4  Montreal, PQ / Chesterville, ON  \n"
     ]
    }
   ],
   "source": [
    "# Check the categorical columns (note the loop)\n",
    "\n",
    "# Add all the object type column to categories list\n",
    "categories = []\n",
    "for col, col_type in df.dtypes.items():\n",
    "     if col_type == 'O':  \n",
    "            categories.append(col)\n",
    "     else:\n",
    "        df[col].fillna(0, inplace=True)\n",
    "print(categories)\n",
    "\n",
    "print(df.columns.values)\n",
    "print(df.head())"
   ]
  },
  {
   "cell_type": "code",
   "execution_count": 9,
   "id": "f1ae79a4",
   "metadata": {},
   "outputs": [
    {
     "name": "stdout",
     "output_type": "stream",
     "text": [
      "pclass          0\n",
      "survived        0\n",
      "name            0\n",
      "sex             0\n",
      "age             0\n",
      "sibsp           0\n",
      "parch           0\n",
      "ticket          0\n",
      "fare            0\n",
      "cabin        1014\n",
      "embarked        2\n",
      "boat          823\n",
      "body            0\n",
      "home.dest     564\n",
      "dtype: int64\n"
     ]
    }
   ],
   "source": [
    "# Check the missing values (null) in each column\n",
    "print(len(df) - df.count())  #Cabin , boat, home.dest have so many missing values"
   ]
  },
  {
   "cell_type": "code",
   "execution_count": 10,
   "id": "72aaad9d",
   "metadata": {},
   "outputs": [
    {
     "name": "stdout",
     "output_type": "stream",
     "text": [
      "['age' 'sex' 'embarked' 'survived']\n",
      "       age     sex embarked  survived\n",
      "0  29.0000  female        S         1\n",
      "1   0.9167    male        S         1\n",
      "2   2.0000  female        S         0\n",
      "3  30.0000    male        S         0\n",
      "4  25.0000  female        S         0\n"
     ]
    }
   ],
   "source": [
    "# For the purpose of this model select three features age, sex and embarked\n",
    "include = ['age','sex', 'embarked', 'survived']\n",
    "df_ = df[include]\n",
    "\n",
    "print(df_.columns.values)\n",
    "print(df_.head())"
   ]
  },
  {
   "cell_type": "code",
   "execution_count": 13,
   "id": "db168b74",
   "metadata": {},
   "outputs": [
    {
     "name": "stdout",
     "output_type": "stream",
     "text": [
      "['female' 'male']\n",
      "['S' 'C' nan 'Q']\n",
      "[29.      0.9167  2.     30.     25.     48.     63.     39.     53.\n",
      " 71.     47.     18.     24.     26.     80.      0.     50.     32.\n",
      " 36.     37.     42.     19.     35.     28.     45.     40.     58.\n",
      " 22.     41.     44.     59.     60.     33.     17.     11.     14.\n",
      " 49.     76.     46.     27.     64.     55.     70.     38.     51.\n",
      " 31.      4.     54.     23.     43.     52.     16.     32.5    21.\n",
      " 15.     65.     28.5    45.5    56.     13.     61.     34.      6.\n",
      " 57.     62.     67.      1.     12.     20.      0.8333  8.      0.6667\n",
      "  7.      3.     36.5    18.5     5.     66.      9.      0.75   70.5\n",
      " 22.5     0.3333  0.1667 40.5    10.     23.5    34.5    20.5    30.5\n",
      " 55.5    38.5    14.5    24.5    60.5    74.      0.4167 11.5    26.5   ]\n",
      "[1 0]\n"
     ]
    }
   ],
   "source": [
    "# Print the unique values for all the three features sex, embarked and age\n",
    "print(df_['sex'].unique())\n",
    "print(df_['embarked'].unique())\n",
    "print(df_['age'].unique())\n",
    "\n",
    "# Print the unique values for the class survived\n",
    "print(df_['survived'].unique())"
   ]
  },
  {
   "cell_type": "code",
   "execution_count": 15,
   "id": "849f221c",
   "metadata": {},
   "outputs": [
    {
     "name": "stdout",
     "output_type": "stream",
     "text": [
      "age         0\n",
      "sex         0\n",
      "embarked    2\n",
      "survived    0\n",
      "dtype: int64\n"
     ]
    }
   ],
   "source": [
    "# Check the null values\n",
    "\n",
    "print(df_.isnull().sum())\n",
    "\n",
    "# OR, print(len(df_) - df_.count())\n",
    "\n",
    "# for specific column\n",
    "# print(df_['sex'].isnull().sum())\n",
    "# print(df_['embarked'].isnull().sum())"
   ]
  },
  {
   "cell_type": "code",
   "execution_count": 18,
   "id": "a7e6d782",
   "metadata": {},
   "outputs": [
    {
     "name": "stdout",
     "output_type": "stream",
     "text": [
      "<class 'pandas.core.frame.DataFrame'>\n",
      "RangeIndex: 1309 entries, 0 to 1308\n",
      "Data columns (total 4 columns):\n",
      " #   Column    Non-Null Count  Dtype  \n",
      "---  ------    --------------  -----  \n",
      " 0   age       1309 non-null   float64\n",
      " 1   sex       1309 non-null   object \n",
      " 2   embarked  1307 non-null   object \n",
      " 3   survived  1309 non-null   int64  \n",
      "dtypes: float64(1), int64(1), object(2)\n",
      "memory usage: 41.0+ KB\n"
     ]
    }
   ],
   "source": [
    "# Drop the rows with missing values\n",
    "df_.loc[:,('age','sex', 'embarked', 'survived')].dropna(axis=0,how='any',inplace=True)\n",
    "df_.info()"
   ]
  },
  {
   "cell_type": "code",
   "execution_count": 19,
   "id": "197c55f1",
   "metadata": {},
   "outputs": [
    {
     "name": "stdout",
     "output_type": "stream",
     "text": [
      "['sex', 'embarked']\n"
     ]
    }
   ],
   "source": [
    "# Identify the features with categorical values\n",
    "categoricals = []\n",
    "for col, col_type in df_.dtypes.iteritems():\n",
    "    if col_type == 'O':\n",
    "        categoricals.append(col)\n",
    "print(categoricals)"
   ]
  },
  {
   "cell_type": "code",
   "execution_count": 20,
   "id": "03d57dd1",
   "metadata": {},
   "outputs": [
    {
     "name": "stdout",
     "output_type": "stream",
     "text": [
      "       age  survived  sex_female  sex_male  embarked_C  embarked_Q  embarked_S\n",
      "0  29.0000         1           1         0           0           0           1\n",
      "1   0.9167         1           0         1           0           0           1\n",
      "2   2.0000         0           1         0           0           0           1\n",
      "3  30.0000         0           0         1           0           0           1\n",
      "4  25.0000         0           1         0           0           0           1\n",
      "['age' 'survived' 'sex_female' 'sex_male' 'embarked_C' 'embarked_Q'\n",
      " 'embarked_S']\n",
      "age           0\n",
      "survived      0\n",
      "sex_female    0\n",
      "sex_male      0\n",
      "embarked_C    0\n",
      "embarked_Q    0\n",
      "embarked_S    0\n",
      "dtype: int64\n"
     ]
    }
   ],
   "source": [
    "# Convert the categorical values into numeric columns using the get dummie\n",
    "\n",
    "df_dummy = pd.get_dummies(df_, columns=categoricals, dummy_na=False)\n",
    "print(df_dummy.head())\n",
    "print(df_dummy.columns.values)\n",
    "\n",
    "# Check for any missing values\n",
    "print(len(df_dummy) - df_dummy.count())"
   ]
  },
  {
   "cell_type": "code",
   "execution_count": 23,
   "id": "8ac6374b",
   "metadata": {},
   "outputs": [
    {
     "name": "stdout",
     "output_type": "stream",
     "text": [
      "        age  survived  sex_female  sex_male  embarked_C  embarked_Q  \\\n",
      "0  0.291313  1.272006    1.344995 -1.344995    -0.50977    -0.32204   \n",
      "1 -1.305769  1.272006   -0.743497  0.743497    -0.50977    -0.32204   \n",
      "2 -1.244163 -0.786160    1.344995 -1.344995    -0.50977    -0.32204   \n",
      "3  0.348182 -0.786160   -0.743497  0.743497    -0.50977    -0.32204   \n",
      "4  0.063835 -0.786160    1.344995 -1.344995    -0.50977    -0.32204   \n",
      "\n",
      "   embarked_S  \n",
      "0    0.657394  \n",
      "1    0.657394  \n",
      "2    0.657394  \n",
      "3    0.657394  \n",
      "4    0.657394  \n",
      "count    1.309000e+03\n",
      "mean    -1.715290e-15\n",
      "std      1.000382e+00\n",
      "min     -1.357902e+00\n",
      "25%     -9.598153e-01\n",
      "50%      6.965676e-03\n",
      "75%      6.325298e-01\n",
      "max      3.191656e+00\n",
      "Name: age, dtype: float64\n",
      "count    1.309000e+03\n",
      "mean     1.231338e-15\n",
      "std      1.000382e+00\n",
      "min     -1.344995e+00\n",
      "25%     -1.344995e+00\n",
      "50%      7.434969e-01\n",
      "75%      7.434969e-01\n",
      "max      7.434969e-01\n",
      "Name: sex_male, dtype: float64\n",
      "count    1.309000e+03\n",
      "mean    -1.231338e-15\n",
      "std      1.000382e+00\n",
      "min     -7.434969e-01\n",
      "25%     -7.434969e-01\n",
      "50%     -7.434969e-01\n",
      "75%      1.344995e+00\n",
      "max      1.344995e+00\n",
      "Name: sex_female, dtype: float64\n",
      "count    1.309000e+03\n",
      "mean    -8.091312e-17\n",
      "std      1.000382e+00\n",
      "min     -5.097698e-01\n",
      "25%     -5.097698e-01\n",
      "50%     -5.097698e-01\n",
      "75%     -5.097698e-01\n",
      "max      1.961670e+00\n",
      "Name: embarked_C, dtype: float64\n",
      "count    1.309000e+03\n",
      "mean     1.107763e-15\n",
      "std      1.000382e+00\n",
      "min     -3.220403e-01\n",
      "25%     -3.220403e-01\n",
      "50%     -3.220403e-01\n",
      "75%     -3.220403e-01\n",
      "max      3.105202e+00\n",
      "Name: embarked_Q, dtype: float64\n",
      "count    1.309000e+03\n",
      "mean    -2.150898e-16\n",
      "std      1.000382e+00\n",
      "min     -1.521159e+00\n",
      "25%     -1.521159e+00\n",
      "50%      6.573936e-01\n",
      "75%      6.573936e-01\n",
      "max      6.573936e-01\n",
      "Name: embarked_S, dtype: float64\n",
      "count    1.309000e+03\n",
      "mean     1.086136e-15\n",
      "std      1.000382e+00\n",
      "min     -7.861596e-01\n",
      "25%     -7.861596e-01\n",
      "50%     -7.861596e-01\n",
      "75%      1.272006e+00\n",
      "max      1.272006e+00\n",
      "Name: survived, dtype: float64\n",
      "age           float64\n",
      "survived      float64\n",
      "sex_female    float64\n",
      "sex_male      float64\n",
      "embarked_C    float64\n",
      "embarked_Q    float64\n",
      "embarked_S    float64\n",
      "dtype: object\n"
     ]
    }
   ],
   "source": [
    "# 11. Standardize the data\n",
    "\n",
    "# Import preprocessing library from sklearn\n",
    "from sklearn import preprocessing\n",
    "\n",
    "# Save the column name into a variable called names\n",
    "names = df_dummy.columns\n",
    "\n",
    "# Create a scalar object\n",
    "scaler = preprocessing.StandardScaler()\n",
    "\n",
    "# Create a new data frame, fit the data into the scalar object. Note that this object is an array, therefore you will need to\n",
    "# reconvert it into a dataframe using pandas (pd.DataFrame)\n",
    "\n",
    "scaled_df = scaler.fit_transform(df_dummy)\n",
    "scaled_df = pd.DataFrame(scaled_df, columns=names)\n",
    "\n",
    "print(scaled_df.head())\n",
    "print(scaled_df['age'].describe())\n",
    "print(scaled_df['sex_male'].describe())\n",
    "print(scaled_df['sex_female'].describe())\n",
    "print(scaled_df['embarked_C'].describe())\n",
    "print(scaled_df['embarked_Q'].describe())\n",
    "print(scaled_df['embarked_S'].describe())\n",
    "print(scaled_df['survived'].describe())\n",
    "print(scaled_df.dtypes)"
   ]
  },
  {
   "cell_type": "code",
   "execution_count": 24,
   "id": "08acd78f",
   "metadata": {},
   "outputs": [
    {
     "name": "stdout",
     "output_type": "stream",
     "text": [
      "The score of the 10 fold run is:  0.7774725274725275\n"
     ]
    }
   ],
   "source": [
    "# Build the logistic regression model\n",
    "\n",
    "# import the model\n",
    "from sklearn.linear_model import LogisticRegression\n",
    "\n",
    "# Define the dependent variable\n",
    "dependent_variable = 'survived'\n",
    "\n",
    "# Select the feature using the difference method\n",
    "x = scaled_df[scaled_df.columns.difference([dependent_variable])]\n",
    "x.dtypes\n",
    "y = scaled_df[dependent_variable]\n",
    "\n",
    "# Convert the class from float back to integer using the astype method\n",
    "y = y.astype(int)\n",
    "\n",
    "# Split the data into 80% for taining and 20% for testing\n",
    "from sklearn.model_selection import train_test_split\n",
    "trainX,testX,trainY,testY = train_test_split(x,y, test_size = 0.2)\n",
    "\n",
    "#build the model\n",
    "lr = LogisticRegression(solver='lbfgs')\n",
    "lr.fit(x, y)\n",
    "\n",
    "# Validate score the model using 10 fold cross validation\n",
    "from sklearn.model_selection import KFold\n",
    "crossvalidation = KFold(n_splits=10, shuffle=True, random_state=1)\n",
    "\n",
    "# Print the final score\n",
    "from sklearn.model_selection import cross_val_score\n",
    "score = np.mean(cross_val_score(lr, trainX, trainY, scoring='accuracy', cv=crossvalidation, n_jobs=1))\n",
    "print ('The score of the 10 fold run is: ',score)\n"
   ]
  },
  {
   "cell_type": "code",
   "execution_count": null,
   "id": "8f2546ae",
   "metadata": {},
   "outputs": [],
   "source": [
    "# Test the model using the 20% testing data\n",
    "\n",
    "# Use the predict method\n",
    "testY_predict = lr.predict(testX)\n",
    "testY_predict.dtype\n",
    "\n",
    "# Import the metrics module\n",
    "from sklearn import metrics \n",
    "labels = y.unique()\n",
    "print(labels)\n",
    "\n",
    "# Print the accuracy\n",
    "print(\"Accuracy:\",metrics.accuracy_score(testY, testY_predict))\n",
    "\n",
    "# Print the confusion matrix\n",
    "from sklearn.metrics import confusion_matrix\n",
    "print(\"Confusion matrix \\n\" , confusion_matrix(testY, testY_predict, labels))"
   ]
  }
 ],
 "metadata": {
  "kernelspec": {
   "display_name": "Python 3 (ipykernel)",
   "language": "python",
   "name": "python3"
  },
  "language_info": {
   "codemirror_mode": {
    "name": "ipython",
    "version": 3
   },
   "file_extension": ".py",
   "mimetype": "text/x-python",
   "name": "python",
   "nbconvert_exporter": "python",
   "pygments_lexer": "ipython3",
   "version": "3.9.12"
  }
 },
 "nbformat": 4,
 "nbformat_minor": 5
}
